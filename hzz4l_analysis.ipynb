{
 "cells": [
  {
   "cell_type": "markdown",
   "metadata": {},
   "source": [
    "# HZZ4l mini analysis"
   ]
  },
  {
   "cell_type": "markdown",
   "metadata": {},
   "source": [
    "First a few useful Jupyter shortcuts:\n",
    "\n",
    "* Enter: edit a cell\n",
    "* Esc: escape from edit mode\n",
    "* b: Add a cell below\n",
    "* a: Add a cell above\n",
    "* m: switch to Markdown cell\n",
    "* Ctrl-Enter: Run cell\n",
    "* Alt-Enter: Run cell and add cell below\n",
    "* Shift-Enter: Run cell and move below"
   ]
  },
  {
   "cell_type": "code",
   "execution_count": 1,
   "metadata": {
    "collapsed": false,
    "scrolled": true
   },
   "outputs": [
    {
     "data": {
      "application/javascript": [
       "require(['codemirror/mode/clike/clike'], function(Clike) { console.log('ROOTaaS - C++ CodeMirror module loaded'); });"
      ]
     },
     "metadata": {},
     "output_type": "display_data"
    },
    {
     "data": {
      "application/javascript": [
       "IPython.CodeCell.config_defaults.highlight_modes['magic_text/x-c++src'] = {'reg':[/^%%cpp/]};"
      ]
     },
     "metadata": {},
     "output_type": "display_data"
    },
    {
     "name": "stdout",
     "output_type": "stream",
     "text": [
      "Welcome to ROOTaaS 6.06/00\n"
     ]
    }
   ],
   "source": [
    "import ROOT"
   ]
  },
  {
   "cell_type": "markdown",
   "metadata": {},
   "source": [
    "These are signal and background simulated data we are interested in"
   ]
  },
  {
   "cell_type": "code",
   "execution_count": 2,
   "metadata": {
    "collapsed": false
   },
   "outputs": [
    {
     "name": "stdout",
     "output_type": "stream",
     "text": [
      "ZZ4lAnalysis.root\n",
      "ZZ4lAnalysis.root\n"
     ]
    }
   ],
   "source": [
    "# Signal tree\n",
    "! ls /data_CMS/cms/ochando/CJLSTReducedTree/160726/ZZTo4l\n",
    "# Background tree\n",
    "! ls /data_CMS/cms/ochando/CJLSTReducedTree/160726/ggH125"
   ]
  },
  {
   "cell_type": "markdown",
   "metadata": {},
   "source": [
    "Let's look at what is inside the files"
   ]
  },
  {
   "cell_type": "code",
   "execution_count": 3,
   "metadata": {
    "collapsed": false
   },
   "outputs": [
    {
     "name": "stdout",
     "output_type": "stream",
     "text": [
      "TFile**\t\t/data_CMS/cms/ochando/CJLSTReducedTree/160726/ggH125/ZZ4lAnalysis.root\t\r\n",
      " TFile*\t\t/data_CMS/cms/ochando/CJLSTReducedTree/160726/ggH125/ZZ4lAnalysis.root\t\r\n",
      "  TDirectoryFile*\t\tZZTree\tZZTree\r\n",
      "   KEY: TTree\tcandTree;1\tEvent Summary\r\n",
      "   KEY: TH1F\tCounters;1\tCounters\r\n",
      "   KEY: TH2F\tCounters_reweighted;1\tCounters_reweighted\r\n",
      "   KEY: TTree\tcouplings;1\treweighting couplings\r\n",
      "  KEY: TDirectoryFile\tZZTree;1\tZZTree\r\n",
      "  KEY: TDirectoryFile\tPlotsZZ;1\tPlotsZZ\r\n"
     ]
    }
   ],
   "source": [
    "signal_file = ROOT.TFile.Open('/data_CMS/cms/ochando/CJLSTReducedTree/160726/ggH125/ZZ4lAnalysis.root')\n",
    "signal_file.cd('ZZTree')\n",
    "signal_file.ls()"
   ]
  },
  {
   "cell_type": "markdown",
   "metadata": {},
   "source": [
    "We retrieve the signal ROOT tree where the events are stored. "
   ]
  },
  {
   "cell_type": "code",
   "execution_count": 4,
   "metadata": {
    "collapsed": true
   },
   "outputs": [],
   "source": [
    "signal_tree = signal_file.Get('ZZTree/candTree')"
   ]
  },
  {
   "cell_type": "markdown",
   "metadata": {},
   "source": [
    "We load the first event and look at the variables values. Type Esc-o to toggle the output cell."
   ]
  },
  {
   "cell_type": "code",
   "execution_count": 5,
   "metadata": {
    "collapsed": true
   },
   "outputs": [
    {
     "name": "stdout",
     "output_type": "stream",
     "text": [
      "======> EVENT:0\r\n",
      " RunNumber       = 1\r\n",
      " EventNumber     = 254049\r\n",
      " LumiNumber      = 1278\r\n",
      " NRecoMu         = 2\r\n",
      " NRecoEle        = 2\r\n",
      " Nvtx            = 12\r\n",
      " NObsInt         = 15\r\n",
      " NTrueInt        = 20.1439\r\n",
      " PFMET           = 23.4662\r\n",
      " PFMETPhi        = -2.08841\r\n",
      " PFMETNoHF       = 43.1148\r\n",
      " PFMETNoHFPhi    = -1.85145\r\n",
      " nCleanedJets    = 2\r\n",
      " nCleanedJetsPt30 = 1\r\n",
      " nCleanedJetsPt30_jecUp = 1\r\n",
      " nCleanedJetsPt30_jecDn = 1\r\n",
      " nCleanedJetsPt30BTagged = 0\r\n",
      " nCleanedJetsPt30BTagged_bTagSF = 0\r\n",
      " nCleanedJetsPt30BTagged_bTagSFUp = 0\r\n",
      " nCleanedJetsPt30BTagged_bTagSFDn = 0\r\n",
      " trigWord        = -32565\r\n",
      " ZZMass          = 119.048\r\n",
      " ZZMassErr       = 1.17973\r\n",
      " ZZMassErrCorr   = 1.17973\r\n",
      " ZZMassPreFSR    = 119.048\r\n",
      " ZZsel           = 100\r\n",
      " ZZPt            = 105.919\r\n",
      " ZZEta           = 0.323407\r\n",
      " ZZPhi           = -2.33697\r\n",
      " CRflag          = 805306368\r\n",
      " Z1Mass          = 83.7659\r\n",
      " Z1Pt            = 71.7932\r\n",
      " Z1Flav          = -169\r\n",
      " ZZMassRefit     = 119.327\r\n",
      " ZZMassRefitErr  = 1.44506\r\n",
      " ZZMassUnrefitErr = 1.46347\r\n",
      " Z2Mass          = 26.9499\r\n",
      " Z2Pt            = 34.1295\r\n",
      " Z2Flav          = -121\r\n",
      " costhetastar    = 0.964909\r\n",
      " helphi          = 0.106953\r\n",
      " helcosthetaZ1   = -0.871139\r\n",
      " helcosthetaZ2   = -0.290205\r\n",
      " phistarZ1       = -0.773818\r\n",
      " phistarZ2       = 0\r\n",
      " xi              = -2.33697\r\n",
      " xistar          = 0.724765\r\n",
      " LepPt           = (vector<float>*)0x5814420\r\n",
      " LepEta          = (vector<float>*)0x578cdb0\r\n",
      " LepPhi          = (vector<float>*)0x5792450\r\n",
      " LepLepId        = (vector<short>*)0x57821f0\r\n",
      " LepSIP          = (vector<float>*)0x572c9d0\r\n",
      " LepTime         = (vector<float>*)0x579bdf0\r\n",
      " LepisID         = (vector<bool>*)0x5afe4c0\r\n",
      " LepisLoose      = (vector<short>*)0x575fd00\r\n",
      " LepBDT          = (vector<float>*)0x5814e90\r\n",
      " LepMissingHit   = (vector<char>*)0x5b40e20\r\n",
      " LepCombRelIsoPF = (vector<float>*)0x5b3f800\r\n",
      " fsrPt           = (vector<float>*)0x5b40430\r\n",
      " fsrEta          = (vector<float>*)0x5b21c30\r\n",
      " fsrPhi          = (vector<float>*)0x5ac8510\r\n",
      " fsrLept         = (vector<short>*)0x5ac78b0\r\n",
      " passIsoPreFSR   = 1\r\n",
      " p0plus_VAJHU    = 0.180621\r\n",
      " p0_g1prime2_VAJHU = 1.0829e-09\r\n",
      " p0hplus_VAJHU   = 0.0936451\r\n",
      " p0minus_VAJHU   = 0.0406323\r\n",
      " p0_g1prime2_zgs_VAJHU = 2.36812e-09\r\n",
      " p0hplus_zgs_VAJHU = 28.8962\r\n",
      " p0minus_zgs_VAJHU = 12.6586\r\n",
      " p0hplus_gsgs_VAJHU = 2.89802\r\n",
      " p0minus_gsgs_VAJHU = 1.23666\r\n",
      " pg1g1prime2_VAJHU = 2.79695e-05\r\n",
      " pg1g2_VAJHU     = 0.246853\r\n",
      " pg1g2_pi2_VAJHU = 0.00152239\r\n",
      " pg1g4_VAJHU     = 0.000651017\r\n",
      " pg1g4_pi2_VAJHU = 0.0175876\r\n",
      " p0plus_zz_g1prime2_zgs_VAJHU = -1.62423e-06\r\n",
      " p0plus_zz_g1prime2_zgs_pi2_VAJHU = -7.45058e-08\r\n",
      " p0plus_zz_0hplus_zgs_VAJHU = 0.0156174\r\n",
      " p0plus_zz_0minus_zgs_VAJHU = -0.0331306\r\n",
      " p0plus_zz_0hplus_gsgs_VAJHU = -0.63163\r\n",
      " p0plus_zz_0minus_gsgs_VAJHU = -0.076394\r\n",
      " p1_VAJHU        = 1.33771\r\n",
      " p1_prodIndep_VAJHU = 3.17499e-06\r\n",
      " p1plus_VAJHU    = 1.79188\r\n",
      " p1plus_prodIndep_VAJHU = 4.30847e-06\r\n",
      " p2plus_gg_VAJHU = 12.1221\r\n",
      " p2plus_prodIndep_VAJHU = 3.03784e-05\r\n",
      " p2plus_qqb_VAJHU = 0.848274\r\n",
      " p2h2plus_gg_VAJHU = 8.04719e-09\r\n",
      " p2h2plus_qqb_VAJHU = 7.47192e-06\r\n",
      " p2h2plus_prodIndep_VAJHU = 2.95759e-10\r\n",
      " p2h3plus_gg_VAJHU = 1.26054e-11\r\n",
      " p2h3plus_qqb_VAJHU = 1.98745e-08\r\n",
      " p2h3plus_prodIndep_VAJHU = 4.43768e-13\r\n",
      " p2h4plus_gg_VAJHU = 2.46815e-10\r\n",
      " p2h4plus_qqb_VAJHU = 4.59524e-08\r\n",
      " p2h4plus_prodIndep_VAJHU = 1.47867e-12\r\n",
      " p2bplus_gg_VAJHU = 6.56845\r\n",
      " p2bplus_qqb_VAJHU = 0.532777\r\n",
      " p2bplus_prodIndep_VAJHU = 1.81795e-05\r\n",
      " p2h6plus_gg_VAJHU = 5.8327e-06\r\n",
      " p2h6plus_qqb_VAJHU = 3.06779e-06\r\n",
      " p2h6plus_prodIndep_VAJHU = 7.82215e-11\r\n",
      " p2h7plus_gg_VAJHU = 3.57955e-08\r\n",
      " p2h7plus_qqb_VAJHU = 8.86321e-08\r\n",
      " p2h7plus_prodIndep_VAJHU = 2.85202e-12\r\n",
      " p2hminus_gg_VAJHU = 1.07092e-10\r\n",
      " p2hminus_qqb_VAJHU = 1.99386e-08\r\n",
      " p2hminus_prodIndep_VAJHU = 6.41588e-13\r\n",
      " p2h9minus_gg_VAJHU = 5.44114e-09\r\n",
      " p2h9minus_qqb_VAJHU = 4.11016e-06\r\n",
      " p2h9minus_prodIndep_VAJHU = 7.31853e-11\r\n",
      " p2h10minus_gg_VAJHU = 1.44112e-14\r\n",
      " p2h10minus_qqb_VAJHU = 2.06738e-11\r\n",
      " p2h10minus_prodIndep_VAJHU = 3.2332e-16\r\n",
      " p0plus_VAMCFM   = 0.182391\r\n",
      " ggzz_VAMCFM     = 0.155727\r\n",
      " ggzz_p0plus_VAMCFM = 0.155218\r\n",
      " bkg_VAMCFM      = 0.0732347\r\n",
      " bkg_prodIndep_VAMCFM = 2.7394e-09\r\n",
      " pZJJ_VAMCFM     = 233.498\r\n",
      " Dgg10_VAMCFM    = 2.94708e-11\r\n",
      " p0plus_m4l      = 0.0188059\r\n",
      " p0plus_m4l_ScaleUp = 0.0214892\r\n",
      " p0plus_m4l_ScaleDown = 0.0165231\r\n",
      " p0plus_m4l_ResUp = 0.0183345\r\n",
      " p0plus_m4l_ResDown = 0.0163023\r\n",
      " bkg_m4l         = 0.000717506\r\n",
      " bkg_m4l_ScaleUp = 0.000723788\r\n",
      " bkg_m4l_ScaleDown = 0.0007109\r\n",
      " bkg_m4l_ResUp   = 0.000724485\r\n",
      " bkg_m4l_ResDown = 0.000714229\r\n",
      " pwh_leptonic_VAJHU = -1\r\n",
      " pzh_leptonic_VAJHU = -1\r\n",
      " phjj_VAJHU_highestPTJets = -1\r\n",
      " pvbf_VAJHU_highestPTJets = 0.00534728\r\n",
      " phjj_VAJHU_highestPTJets_up = -1\r\n",
      " pvbf_VAJHU_highestPTJets_up = 0.0053556\r\n",
      " phjj_VAJHU_highestPTJets_dn = -1\r\n",
      " pvbf_VAJHU_highestPTJets_dn = 0.00531746\r\n",
      " phjj_VAJHU_bestDjet = -1\r\n",
      " pvbf_VAJHU_bestDjet = 0.00534728\r\n",
      " phjj_VAJHU_bestDjet_up = -1\r\n",
      " pvbf_VAJHU_bestDjet_up = 0.0053556\r\n",
      " phjj_VAJHU_bestDjet_dn = -1\r\n",
      " pvbf_VAJHU_bestDjet_dn = 0.00531746\r\n",
      " pAux_vbf_VAJHU  = 15.0424\r\n",
      " pAux_vbf_VAJHU_up = 14.6885\r\n",
      " pAux_vbf_VAJHU_dn = 15.4201\r\n",
      " phj_VAJHU       = 0.0600557\r\n",
      " phj_VAJHU_up    = 0.0594193\r\n",
      " phj_VAJHU_dn    = 0.0607074\r\n",
      " pwh_hadronic_VAJHU = -1\r\n",
      " pwh_hadronic_VAJHU_up = -1\r\n",
      " pwh_hadronic_VAJHU_dn = -1\r\n",
      " pzh_hadronic_VAJHU = -1\r\n",
      " pzh_hadronic_VAJHU_up = -1\r\n",
      " pzh_hadronic_VAJHU_dn = -1\r\n",
      " ptth_VAJHU      = -1\r\n",
      " ptth_VAJHU_up   = -1\r\n",
      " ptth_VAJHU_dn   = -1\r\n",
      " pbbh_VAJHU      = -1\r\n",
      " pbbh_VAJHU_up   = -1\r\n",
      " pbbh_VAJHU_dn   = -1\r\n",
      " JetPt           = (vector<float>*)0x5eb5ef0\r\n",
      " JetEta          = (vector<float>*)0x5ebf530\r\n",
      " JetPhi          = (vector<float>*)0x5ebf930\r\n",
      " JetMass         = (vector<float>*)0x5ebfd00\r\n",
      " JetBTagger      = (vector<float>*)0x5edb910\r\n",
      " JetIsBtagged    = (vector<float>*)0x5edbd10\r\n",
      " JetIsBtaggedWithSF = (vector<float>*)0x5edc0e0\r\n",
      " JetIsBtaggedWithSFUp = (vector<float>*)0x5ef7d20\r\n",
      " JetIsBtaggedWithSFDn = (vector<float>*)0x5ef8180\r\n",
      " JetQGLikelihood = (vector<float>*)0x5f0ac00\r\n",
      " JetAxis2        = (vector<float>*)0x5f14250\r\n",
      " JetMult         = (vector<float>*)0x5f14650\r\n",
      " JetPtD          = (vector<float>*)0x5f27020\r\n",
      " JetSigma        = (vector<float>*)0x5f30660\r\n",
      " JetHadronFlavour = (vector<short>*)0x5f30a60\r\n",
      " DiJetMass       = -99\r\n",
      " DiJetDEta       = -99\r\n",
      " DiJetFisher     = -99\r\n",
      " nExtraLep       = 0\r\n",
      " nExtraZ         = 0\r\n",
      " ExtraLepPt      = (vector<float>*)0x5f6b290\r\n",
      " ExtraLepEta     = (vector<float>*)0x5f74ee0\r\n",
      " ExtraLepPhi     = (vector<float>*)0x5f7eba0\r\n",
      " ExtraLepLepId   = (vector<short>*)0x5f88860\r\n",
      " ZXFakeweight    = 1\r\n",
      " KFactor_QCD_ggZZ_Nominal = 1.25693\r\n",
      " KFactor_QCD_ggZZ_PDFScaleDn = 1.24773\r\n",
      " KFactor_QCD_ggZZ_PDFScaleUp = 1.26709\r\n",
      " KFactor_QCD_ggZZ_QCDScaleDn = 1.36823\r\n",
      " KFactor_QCD_ggZZ_QCDScaleUp = 1.12941\r\n",
      " KFactor_QCD_ggZZ_AsDn = 1.225\r\n",
      " KFactor_QCD_ggZZ_AsUp = 1.28233\r\n",
      " KFactor_QCD_ggZZ_PDFReplicaDn = 1.24056\r\n",
      " KFactor_QCD_ggZZ_PDFReplicaUp = 1.27715\r\n",
      " genFinalState   = 2\r\n",
      " genProcessId    = 9999\r\n",
      " genHEPMCweight  = 1\r\n",
      " PUWeight        = 1.11485\r\n",
      " dataMCWeight    = 0.845026\r\n",
      " trigEffWeight   = 1\r\n",
      " overallEventWeight = 0.942077\r\n",
      " HqTMCweight     = 1\r\n",
      " xsec            = 0.0134081\r\n",
      " genExtInfo      = -1\r\n",
      " GenHMass        = 125.002\r\n",
      " GenHPt          = 101.222\r\n",
      " GenHRapidity    = 0.295107\r\n",
      " GenZ1Mass       = 90.1455\r\n",
      " GenZ1Pt         = 79.1216\r\n",
      " GenZ1Phi        = -2.37552\r\n",
      " GenZ1Flav       = -169\r\n",
      " GenZ2Mass       = 27.0515\r\n",
      " GenZ2Pt         = 34.2134\r\n",
      " GenZ2Phi        = -2.3526\r\n",
      " GenZ2Flav       = -121\r\n",
      " GenLep1Pt       = 65.74\r\n",
      " GenLep1Eta      = -0.204061\r\n",
      " GenLep1Phi      = -2.18823\r\n",
      " GenLep1Id       = 13\r\n",
      " GenLep2Pt       = 18.9999\r\n",
      " GenLep2Eta      = 1.82906\r\n",
      " GenLep2Phi      = -3.07557\r\n",
      " GenLep2Id       = -13\r\n",
      " GenLep3Pt       = 28.4689\r\n",
      " GenLep3Eta      = 0.115819\r\n",
      " GenLep3Phi      = -2.08893\r\n",
      " GenLep3Id       = 11\r\n",
      " GenLep4Pt       = 10.016\r\n",
      " GenLep4Eta      = -1.03506\r\n",
      " GenLep4Phi      = 3.09637\r\n",
      " GenLep4Id       = -11\r\n",
      " GenAssocLep1Pt  = 0\r\n",
      " GenAssocLep1Eta = 0\r\n",
      " GenAssocLep1Phi = 0\r\n",
      " GenAssocLep1Id  = 0\r\n",
      " GenAssocLep2Pt  = 0\r\n",
      " GenAssocLep2Eta = 0\r\n",
      " GenAssocLep2Phi = 0\r\n",
      " GenAssocLep2Id  = 0\r\n",
      " reweightingweights = (vector<float>*)0x6147a20\r\n",
      " LHEPDFScale     = 125.002\r\n",
      " LHEweight_QCDscale_muR1_muF1 = 1\r\n",
      " LHEweight_QCDscale_muR1_muF2 = 0.990736\r\n",
      " LHEweight_QCDscale_muR1_muF0p5 = 0.997017\r\n",
      " LHEweight_QCDscale_muR2_muF1 = 0.752518\r\n",
      " LHEweight_QCDscale_muR2_muF2 = 0.745547\r\n",
      " LHEweight_QCDscale_muR2_muF0p5 = 0.750273\r\n",
      " LHEweight_QCDscale_muR0p5_muF1 = 1.37145\r\n",
      " LHEweight_QCDscale_muR0p5_muF2 = 1.35874\r\n",
      " LHEweight_QCDscale_muR0p5_muF0p5 = 1.36736\r\n",
      " LHEweight_PDFVariation_Up = 0.984894\r\n",
      " LHEweight_PDFVariation_Dn = 1.02047\r\n",
      " LHEweight_AsMZ_Up = 1\r\n",
      " LHEweight_AsMZ_Dn = 1\r\n"
     ]
    }
   ],
   "source": [
    "signal_tree.GetEntry(0)\n",
    "signal_tree.Show()"
   ]
  },
  {
   "cell_type": "markdown",
   "metadata": {},
   "source": [
    "We choose to read only a subset of the variables, that we are going to use"
   ]
  },
  {
   "cell_type": "code",
   "execution_count": 6,
   "metadata": {
    "collapsed": true
   },
   "outputs": [],
   "source": [
    "signal_tree.SetBranchStatus('*', 0)\n",
    "signal_tree.SetBranchStatus('GenLep*',1)\n",
    "signal_tree.SetBranchStatus('GenZ*',1)\n",
    "signal_tree.SetBranchStatus('GenH*',1)\n",
    "signal_tree.SetBranchStatus('Lep*',1)\n",
    "signal_tree.SetBranchStatus('Z*',1)"
   ]
  },
  {
   "cell_type": "code",
   "execution_count": 7,
   "metadata": {
    "collapsed": true
   },
   "outputs": [
    {
     "name": "stdout",
     "output_type": "stream",
     "text": [
      "======> EVENT:0\r\n",
      " ZZMass          = 119.048\r\n",
      " ZZMassErr       = 1.17973\r\n",
      " ZZMassErrCorr   = 1.17973\r\n",
      " ZZMassPreFSR    = 119.048\r\n",
      " ZZsel           = 100\r\n",
      " ZZPt            = 105.919\r\n",
      " ZZEta           = 0.323407\r\n",
      " ZZPhi           = -2.33697\r\n",
      " Z1Mass          = 83.7659\r\n",
      " Z1Pt            = 71.7932\r\n",
      " Z1Flav          = -169\r\n",
      " ZZMassRefit     = 119.327\r\n",
      " ZZMassRefitErr  = 1.44506\r\n",
      " ZZMassUnrefitErr = 1.46347\r\n",
      " Z2Mass          = 26.9499\r\n",
      " Z2Pt            = 34.1295\r\n",
      " Z2Flav          = -121\r\n",
      " LepPt           = (vector<float>*)0x5814420\r\n",
      " LepEta          = (vector<float>*)0x578cdb0\r\n",
      " LepPhi          = (vector<float>*)0x5792450\r\n",
      " LepLepId        = (vector<short>*)0x57821f0\r\n",
      " LepSIP          = (vector<float>*)0x572c9d0\r\n",
      " LepTime         = (vector<float>*)0x579bdf0\r\n",
      " LepisID         = (vector<bool>*)0x5afe4c0\r\n",
      " LepisLoose      = (vector<short>*)0x575fd00\r\n",
      " LepBDT          = (vector<float>*)0x5814e90\r\n",
      " LepMissingHit   = (vector<char>*)0x5b40e20\r\n",
      " LepCombRelIsoPF = (vector<float>*)0x5b3f800\r\n",
      " ZXFakeweight    = 1\r\n",
      " GenHMass        = 125.002\r\n",
      " GenHPt          = 101.222\r\n",
      " GenHRapidity    = 0.295107\r\n",
      " GenZ1Mass       = 90.1455\r\n",
      " GenZ1Pt         = 79.1216\r\n",
      " GenZ1Phi        = -2.37552\r\n",
      " GenZ1Flav       = -169\r\n",
      " GenZ2Mass       = 27.0515\r\n",
      " GenZ2Pt         = 34.2134\r\n",
      " GenZ2Phi        = -2.3526\r\n",
      " GenZ2Flav       = -121\r\n",
      " GenLep1Pt       = 65.74\r\n",
      " GenLep1Eta      = -0.204061\r\n",
      " GenLep1Phi      = -2.18823\r\n",
      " GenLep1Id       = 13\r\n",
      " GenLep2Pt       = 18.9999\r\n",
      " GenLep2Eta      = 1.82906\r\n",
      " GenLep2Phi      = -3.07557\r\n",
      " GenLep2Id       = -13\r\n",
      " GenLep3Pt       = 28.4689\r\n",
      " GenLep3Eta      = 0.115819\r\n",
      " GenLep3Phi      = -2.08893\r\n",
      " GenLep3Id       = 11\r\n",
      " GenLep4Pt       = 10.016\r\n",
      " GenLep4Eta      = -1.03506\r\n",
      " GenLep4Phi      = 3.09637\r\n",
      " GenLep4Id       = -11\r\n"
     ]
    }
   ],
   "source": [
    "signal_tree.Show()"
   ]
  },
  {
   "cell_type": "markdown",
   "metadata": {},
   "source": [
    "## Generated objects"
   ]
  },
  {
   "cell_type": "markdown",
   "metadata": {},
   "source": [
    "First we look at generated objects. Below we fill an histogram with the transverse momentum (pT) of the first lepton."
   ]
  },
  {
   "cell_type": "code",
   "execution_count": 8,
   "metadata": {
    "collapsed": false
   },
   "outputs": [
    {
     "data": {
      "text/plain": [
       "127817L"
      ]
     },
     "execution_count": 8,
     "metadata": {},
     "output_type": "execute_result"
    }
   ],
   "source": [
    "histo_pt = ROOT.TH1F('histo_pt', 'histo_pt', 50, 0, 100)\n",
    "signal_tree.Project('histo_pt', 'GenLep1Pt')"
   ]
  },
  {
   "cell_type": "code",
   "execution_count": 9,
   "metadata": {
    "collapsed": false
   },
   "outputs": [
    {
     "data": {
      "image/png": "[encoded data removed]",
      "text/plain": [
       "<IPython.core.display.Image object>"
      ]
     },
     "metadata": {},
     "output_type": "display_data"
    }
   ],
   "source": [
    "canvas = ROOT.TCanvas()\n",
    "histo_pt.Draw()\n",
    "canvas.Draw()"
   ]
  },
  {
   "cell_type": "markdown",
   "metadata": {},
   "source": [
    "* Look at the ID and kinematic variables of the four leptons, for signal and background\n",
    "* Compute the two Z 4-vectors and compare them to the variables stored in the tree\n",
    "* Compute the ZZ (aka H) 4-vector and compare it to the variables stored in the tree"
   ]
  },
  {
   "cell_type": "markdown",
   "metadata": {},
   "source": [
    "## Reconstructed objects"
   ]
  },
  {
   "cell_type": "markdown",
   "metadata": {},
   "source": [
    "* Compare generation-level with reconstruction-level lepton variables\n",
    "* Compare the H mass at generation- and reconstruction-levels"
   ]
  },
  {
   "cell_type": "markdown",
   "metadata": {},
   "source": [
    "## Comparison between data and simulation"
   ]
  },
  {
   "cell_type": "markdown",
   "metadata": {
    "collapsed": true
   },
   "source": [
    "* Apply the correct normalization to the simulation distributions\n",
    "* Stack the background and signal distributions\n",
    "* Compare real data and simulation"
   ]
  },
  {
   "cell_type": "markdown",
   "metadata": {},
   "source": [
    "## Measure the Higgs mass"
   ]
  },
  {
   "cell_type": "markdown",
   "metadata": {},
   "source": [
    "* Measure the reconstructed masses for different generated masses\n",
    "* Measure the mass in data"
   ]
  }
 ],
 "metadata": {
  "kernelspec": {
   "display_name": "Python 2",
   "language": "python",
   "name": "python2"
  },
  "language_info": {
   "codemirror_mode": {
    "name": "ipython",
    "version": 2
   },
   "file_extension": ".py",
   "mimetype": "text/x-python",
   "name": "python",
   "nbconvert_exporter": "python",
   "pygments_lexer": "ipython2",
   "version": "2.7.10"
  }
 },
 "nbformat": 4,
 "nbformat_minor": 0
}
